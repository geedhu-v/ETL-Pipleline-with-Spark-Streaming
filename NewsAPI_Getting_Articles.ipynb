{
  "nbformat": 4,
  "nbformat_minor": 0,
  "metadata": {
    "colab": {
      "provenance": []
    },
    "kernelspec": {
      "name": "python3",
      "display_name": "Python 3"
    },
    "language_info": {
      "name": "python"
    }
  },
  "cells": [
    {
      "cell_type": "markdown",
      "source": [
        "# NewsAPI  - Getting articles\n",
        "This API can get news articles from different sources and different topics.  \n",
        "\n",
        "Documentation for Python API can be found at:  \n",
        "https://github.com/mattlisiv/newsapi-python\n",
        "\n"
      ],
      "metadata": {
        "id": "pTCs6BCZK0mh"
      }
    },
    {
      "cell_type": "code",
      "source": [
        "pip install newsapi"
      ],
      "metadata": {
        "id": "ng9Vbp3zINxm"
      },
      "execution_count": null,
      "outputs": []
    },
    {
      "cell_type": "markdown",
      "source": [],
      "metadata": {
        "id": "mCmagHbyLFjR"
      }
    },
    {
      "cell_type": "code",
      "source": [
        "pip install newsapi-python"
      ],
      "metadata": {
        "id": "m23Tz77lIsrG",
        "colab": {
          "base_uri": "https://localhost:8080/"
        },
        "outputId": "4313690c-a7f7-4b1b-a7f7-19f3b6125637"
      },
      "execution_count": 2,
      "outputs": [
        {
          "output_type": "stream",
          "name": "stdout",
          "text": [
            "Installing collected packages: newsapi-python\n",
            "Successfully installed newsapi-python-0.2.7\n"
          ]
        }
      ]
    },
    {
      "cell_type": "code",
      "source": [
        "pip install kafka-python"
      ],
      "metadata": {
        "id": "ItPYsR8tKUsy"
      },
      "execution_count": null,
      "outputs": []
    },
    {
      "cell_type": "code",
      "source": [
        "# Get your free API key from https://newsapi.org/, just need to sign up for an account\n",
        "key = \"you-api-key from https://newsapi.org/\""
      ],
      "metadata": {
        "id": "WDU_AXgcI9Hd"
      },
      "execution_count": 4,
      "outputs": []
    },
    {
      "cell_type": "code",
      "source": [
        "key = \"a9c085019beb46bd86d95c9c46487c62\""
      ],
      "metadata": {
        "id": "27_jVV9Fwpl5"
      },
      "execution_count": 5,
      "outputs": []
    },
    {
      "cell_type": "code",
      "execution_count": 6,
      "metadata": {
        "id": "hN0x3H1WHxtE",
        "colab": {
          "base_uri": "https://localhost:8080/"
        },
        "outputId": "b127bce5-f0a6-43bc-b76c-49d019ee890b"
      },
      "outputs": [
        {
          "output_type": "stream",
          "name": "stdout",
          "text": [
            "France footballer Wissam Ben Yedder charged with rape\n",
            "Fast grocery firms doomed by French dark store ban\n",
            "Niger coup: Ousted President Mohamed Bazoum meets Chad's leader\n",
            "Arman Soldin: Journalist killed in Ukraine given France's highest honour\n",
            "Marseille police officers arrested over death during rioting\n",
            "In pictures: Cerberus heatwave hits parts of Europe\n",
            "UK inflation and interest rates high - how do other economies compare?\n",
            "Rugby Championship 2023: New Zealand see off South Africa 35-20 in Auckland\n",
            "Paris 2024 Olympics: Concern over French plan for AI surveillance\n",
            "Milan Kundera, author of The Unbearable Lightness of Being, dies aged 94\n",
            "Niger coup: Junta shuts airspace citing military intervention threat\n",
            "Russia seizes control of Danone and Carlsberg operations\n",
            "Jane Birkin Paris funeral draws celebrities and crowds\n",
            "Eleven people missing in France after fire in holiday home\n",
            "What next after Niger coup? Three scenarios\n",
            "Greece fires: Thousands flee homes and hotels on Rhodes as fires spread\n",
            "Terms of Syrian offer on aid deliveries unacceptable, says UN\n",
            "Marseille riots: French officer in custody row admits firing riot gun\n",
            "France 0-0 Jamaica: France held to goalless draw\n",
            "Niger coup: Burkina Faso and Mali juntas issue war warning\n",
            "Nigeria's President Tinubu faces backlash over military intervention in Niger\n",
            "Europe heatwave: Red alerts issued in 15 Italian cities\n",
            "Cerberus heatwave: Hot weather sweeps across southern Europe\n",
            "G7 members to announce long-term Ukraine security package at Nato summit\n",
            "TwoSet Violin: Where classical music and social media collide\n",
            "Panama's Cox scores stunning free kick - 66381700\n",
            "Renard header gives France over Brazil\n",
            "Summer Test: Scotland face France at Murrayfield\n",
            "Sweden, Netherlands & France play World Cup openers\n",
            "Scotland seize stunning comeback win over France\n",
            "Russell to captain Scotland against France\n",
            "Panama 3-6 France: Kadi Diani hat-trick helps France reach last 16\n",
            "Tour de France stage 12 Live\n",
            "Jamaica pick up crucial draw against France\n",
            "Villa sign France winger Diaby from Leverkusen\n",
            "Chelsea sign France international Disasi for £38.57m\n",
            "Niger coup: A litmus test for democracy in West Africa\n",
            "Bauernfeind wins Tour de France Femmes stage five\n",
            "Fifa Women's World Cup: Build-up as France face Jamaica\n",
            "Fan causes crash taking selfie at Tour de France\n",
            "Tour de France stage paused after big early crash\n",
            "Tour de France stage 14 resumes after early crash\n",
            "Watch: Women's U19s European Championships semi-final - France v Germany\n",
            "Asgreen claims first Tour de France stage win\n",
            "Captain Ritchie returns for Scotland's France warm-up\n",
            "Alcaraz wins first match since Wimbledon triumph\n",
            "Watch Fifa Women's World Cup: Build-up to France v Brazil\n",
            "Tour de France Femmes - stage-by-stage guide\n",
            "France thrash Morocco to book quarter-final place\n",
            "Tour de France Femmes: Who are the riders to watch?\n",
            "Diani nets hat-trick as France beat Panama\n",
            "Kerr will start against France if fit - Gustavsson\n",
            "Tour de France stage 15: Vingegaard defends yellow jersey\n",
            "Seven-try France stun Ireland in World U20 final\n",
            "Wing Adams aims for World Cup repeat in France\n",
            "Renard heads late winner as France beat Brazil\n",
            "Morocco boss Pedros relishing tie with native France\n",
            "Mohoric wins stage 19 of Tour in thrilling photo finish\n",
            "The man Sinatra called 'the best singer in the business'\n",
            "Kastelijn cruises to victory on stage four\n",
            "Southern hemisphere to host 2026 World Cup\n",
            "Fifa Women's World Cup quarter-final: Australia v France build-up\n",
            "GB win mixed relay silver at World Triathlon Series\n",
            "What have we learned from the Rugby Championship?\n",
            "Watch: Fifa Women's World Cup - France v Morocco round of 16\n",
            "Pogacar salvages Tour pride by winning stage 20\n",
            "Wales will do 'something special' at World Cup - Gatland\n",
            "Bilbao wins from break to take stage 10 of Tour\n",
            "France's Renard a doubt for Brazil clash on day 10\n",
            "Niger coup: Captive President Bazoum defiant after takeover\n",
            "Izagirre cruises to stage 12 win, Vingegaard leads\n",
            "Cavendish faces 'few weeks' recovery after surgery\n",
            "Tour de France stage 16: Vingegaard aims to protect lead in time trial\n",
            "Tour de France stage 17 - Vingegaard looks to stay in control in gruelling day in the mountains\n",
            "Lippert beats Kopecky to win stage two of Tour\n",
            "Kopecky solos to opening stage win on women's Tour\n",
            "Norsgaard holds off peloton to win stage by a second\n",
            "Wales hopeful Faletau will be fit for World Cup\n",
            "Tour de France stage 11: Philipsen goes for fourth sprint win\n",
            "Kwiatkowski wins stage 13 as Pogacar cuts lead\n",
            "Tour de France stage 19 - Vingegaard in control in final week\n",
            "Tour de France stage 21 - Vingegaard set to be crowned champion\n",
            "Tour de France stage 20 - Last test for Vingegaard before Paris\n",
            "'I don't want anyone to go through what I have'\n",
            "Philipsen takes fourth stage win of 2023 Tour\n",
            "GC battle set to take place on Grand Colombier\n",
            "Vingegaard on brink of retaining Tour title\n",
            "Van Aert withdraws from Tour for birth of child\n",
            "Tour de France stage 18 - sprint likely as Vingegaard closes on title\n",
            "Fifa Women's World Cup: Build-up to Jamaica v Brazil & Panama v France\n",
            "Vingegaard closes in on title after time trial win\n",
            "Vollering wins stage seven to grab overall lead\n",
            "Wales wing Rees-Zammit targets first World Cup\n",
            "Meeus wins stage as Vingegaard retains Tour title\n",
            "Team GB tipped for 62 medals at Paris 2024\n",
            "Wiebes claims victory on stage three of Tour\n",
            "Ireland's Doris can still get 'a lot better'\n",
            "Women's World Cup preview & predictions: Brazil v Jamaica crunch-match tops bill\n",
            "From cleaner to coach - fascinating life of France's Renard\n",
            "Women's World Cup 2023: Midfielder Drew Spence says Jamaica aimed to 'shock world' after France draw\n"
          ]
        }
      ],
      "source": [
        "from newsapi import NewsApiClient\n",
        "import json\n",
        "from kafka import KafkaProducer\n",
        "\n",
        "# Initialize API endpoint\n",
        "newsapi = NewsApiClient(api_key=key)\n",
        "\n",
        "# Define the list of media sources\n",
        "sources = 'bbc-news,cnn,fox-news,nbc-news,the-guardian-uk,the-new-york-times,the-washington-post,usa-today,independent,daily-mail'\n",
        "\n",
        "# /v2/everything - note there are other parameters you can set\n",
        "all_articles = newsapi.get_everything(q='france',\n",
        "                                      sources=sources,\n",
        "                                      language='en')\n",
        "\n",
        "# Print the titles of the articles\n",
        "for article in all_articles['articles']:\n",
        "    print(article['title'])\n",
        "\n"
      ]
    }
  ]
}